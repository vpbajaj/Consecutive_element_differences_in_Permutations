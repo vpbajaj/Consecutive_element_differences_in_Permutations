{
  "nbformat": 4,
  "nbformat_minor": 0,
  "metadata": {
    "colab": {
      "name": "Personality Test.ipynb",
      "provenance": [],
      "mount_file_id": "1uWGRN6avXWCfoJsIKraj0M1lBe3EiwZI",
      "authorship_tag": "ABX9TyMk1UvLPGsnblJbXBV2Rfpk",
      "include_colab_link": true
    },
    "kernelspec": {
      "name": "python3",
      "display_name": "Python 3"
    }
  },
  "cells": [
    {
      "cell_type": "markdown",
      "metadata": {
        "id": "view-in-github",
        "colab_type": "text"
      },
      "source": [
        "<a href=\"https://colab.research.google.com/github/vpbajaj/Personal-Projects/blob/master/Personality_Test.ipynb\" target=\"_parent\"><img src=\"https://colab.research.google.com/assets/colab-badge.svg\" alt=\"Open In Colab\"/></a>"
      ]
    },
    {
      "cell_type": "code",
      "metadata": {
        "id": "LrPP6EK_26ZX"
      },
      "source": [
        "import numpy as np\n",
        "import pandas as pd"
      ],
      "execution_count": null,
      "outputs": []
    },
    {
      "cell_type": "markdown",
      "metadata": {
        "id": "UmmwdvJ8VxkS"
      },
      "source": [
        "Kaggle problem"
      ]
    },
    {
      "cell_type": "code",
      "metadata": {
        "id": "uZ18a6Oh3FOD"
      },
      "source": [
        "train = pd.read_csv('/content/drive/My Drive/mbti_1.csv')"
      ],
      "execution_count": null,
      "outputs": []
    },
    {
      "cell_type": "code",
      "metadata": {
        "id": "uV723ATS3cqR",
        "colab": {
          "base_uri": "https://localhost:8080/",
          "height": 204
        },
        "outputId": "72931bcf-211e-42c1-8347-a2b2bc71eee8"
      },
      "source": [
        "train.head()"
      ],
      "execution_count": null,
      "outputs": [
        {
          "output_type": "execute_result",
          "data": {
            "text/html": [
              "<div>\n",
              "<style scoped>\n",
              "    .dataframe tbody tr th:only-of-type {\n",
              "        vertical-align: middle;\n",
              "    }\n",
              "\n",
              "    .dataframe tbody tr th {\n",
              "        vertical-align: top;\n",
              "    }\n",
              "\n",
              "    .dataframe thead th {\n",
              "        text-align: right;\n",
              "    }\n",
              "</style>\n",
              "<table border=\"1\" class=\"dataframe\">\n",
              "  <thead>\n",
              "    <tr style=\"text-align: right;\">\n",
              "      <th></th>\n",
              "      <th>type</th>\n",
              "      <th>posts</th>\n",
              "    </tr>\n",
              "  </thead>\n",
              "  <tbody>\n",
              "    <tr>\n",
              "      <th>0</th>\n",
              "      <td>INFJ</td>\n",
              "      <td>'http://www.youtube.com/watch?v=qsXHcwe3krw|||...</td>\n",
              "    </tr>\n",
              "    <tr>\n",
              "      <th>1</th>\n",
              "      <td>ENTP</td>\n",
              "      <td>'I'm finding the lack of me in these posts ver...</td>\n",
              "    </tr>\n",
              "    <tr>\n",
              "      <th>2</th>\n",
              "      <td>INTP</td>\n",
              "      <td>'Good one  _____   https://www.youtube.com/wat...</td>\n",
              "    </tr>\n",
              "    <tr>\n",
              "      <th>3</th>\n",
              "      <td>INTJ</td>\n",
              "      <td>'Dear INTP,   I enjoyed our conversation the o...</td>\n",
              "    </tr>\n",
              "    <tr>\n",
              "      <th>4</th>\n",
              "      <td>ENTJ</td>\n",
              "      <td>'You're fired.|||That's another silly misconce...</td>\n",
              "    </tr>\n",
              "  </tbody>\n",
              "</table>\n",
              "</div>"
            ],
            "text/plain": [
              "   type                                              posts\n",
              "0  INFJ  'http://www.youtube.com/watch?v=qsXHcwe3krw|||...\n",
              "1  ENTP  'I'm finding the lack of me in these posts ver...\n",
              "2  INTP  'Good one  _____   https://www.youtube.com/wat...\n",
              "3  INTJ  'Dear INTP,   I enjoyed our conversation the o...\n",
              "4  ENTJ  'You're fired.|||That's another silly misconce..."
            ]
          },
          "metadata": {
            "tags": []
          },
          "execution_count": 5
        }
      ]
    },
    {
      "cell_type": "code",
      "metadata": {
        "id": "STAf_rHD3hod"
      },
      "source": [
        "label = []\n",
        "texts = []\n",
        "repeat = []\n",
        "for x in train['type']:\n",
        "    label.append(x)\n",
        "    if x not in repeat:\n",
        "        repeat.append(x)"
      ],
      "execution_count": null,
      "outputs": []
    },
    {
      "cell_type": "code",
      "metadata": {
        "id": "tss1TCfR3o0O",
        "colab": {
          "base_uri": "https://localhost:8080/",
          "height": 289
        },
        "outputId": "df8a7481-9f16-4a3f-880e-6d1c65b7d03e"
      },
      "source": [
        "l = { repeat[i] : i for i in range(0, len(repeat) ) }\n",
        "l"
      ],
      "execution_count": null,
      "outputs": [
        {
          "output_type": "execute_result",
          "data": {
            "text/plain": [
              "{'ENFJ': 5,\n",
              " 'ENFP': 7,\n",
              " 'ENTJ': 4,\n",
              " 'ENTP': 1,\n",
              " 'ESFJ': 15,\n",
              " 'ESFP': 13,\n",
              " 'ESTJ': 14,\n",
              " 'ESTP': 12,\n",
              " 'INFJ': 0,\n",
              " 'INFP': 6,\n",
              " 'INTJ': 3,\n",
              " 'INTP': 2,\n",
              " 'ISFJ': 10,\n",
              " 'ISFP': 8,\n",
              " 'ISTJ': 11,\n",
              " 'ISTP': 9}"
            ]
          },
          "metadata": {
            "tags": []
          },
          "execution_count": 7
        }
      ]
    },
    {
      "cell_type": "code",
      "metadata": {
        "id": "7eE0n_HQ4CLo"
      },
      "source": [
        "labels = []\n",
        "for x in label:\n",
        "    index = l.get(x)\n",
        "    labels.append(index)\n",
        "for x in train['posts']:\n",
        "    texts.append(x)"
      ],
      "execution_count": null,
      "outputs": []
    },
    {
      "cell_type": "code",
      "metadata": {
        "id": "pcPIFAEX4xhi",
        "colab": {
          "base_uri": "https://localhost:8080/",
          "height": 68
        },
        "outputId": "b9d3e35e-403d-4239-9682-f74a486670fd"
      },
      "source": [
        "from keras.preprocessing.text import Tokenizer \n",
        "from keras.preprocessing.sequence import pad_sequences\n",
        "\n",
        "maxlen = 4000\n",
        "training_samples = 500\n",
        "validation_samples = 1000\n",
        "max_words = 10000\n",
        "\n",
        "tokenizer = Tokenizer(num_words=max_words) \n",
        "tokenizer.fit_on_texts(texts) \n",
        "sequences = tokenizer.texts_to_sequences(texts)\n",
        "\n",
        "word_index = tokenizer.word_index \n",
        "print('Found %s unique tokens.' % len(word_index))\n",
        "\n",
        "data = pad_sequences(sequences, maxlen=maxlen)\n",
        "\n",
        "\n",
        "\n",
        "labels = np.asarray(labels) \n",
        "print('Shape of data tensor:', data.shape) \n",
        "print('Shape of label tensor:', labels.shape)\n",
        "\n",
        "indices = np.arange(data.shape[0]) \n",
        "np.random.shuffle(indices) \n",
        "data = data[indices] \n",
        "labels = labels[indices]\n",
        "\n",
        "x_train = data[:] \n",
        "y_train = labels[:] \n",
        "x_val = data[training_samples: training_samples + validation_samples] \n",
        "y_val = labels[training_samples: training_samples + validation_samples]"
      ],
      "execution_count": null,
      "outputs": [
        {
          "output_type": "stream",
          "text": [
            "Found 160094 unique tokens.\n",
            "Shape of data tensor: (8675, 4000)\n",
            "Shape of label tensor: (8675,)\n"
          ],
          "name": "stdout"
        }
      ]
    },
    {
      "cell_type": "code",
      "metadata": {
        "id": "hEGOMW2V49l2",
        "colab": {
          "base_uri": "https://localhost:8080/",
          "height": 34
        },
        "outputId": "4bfdb7c3-a399-4292-d512-57e027022f5f"
      },
      "source": [
        "x_train.shape"
      ],
      "execution_count": null,
      "outputs": [
        {
          "output_type": "execute_result",
          "data": {
            "text/plain": [
              "(8675, 4000)"
            ]
          },
          "metadata": {
            "tags": []
          },
          "execution_count": 13
        }
      ]
    },
    {
      "cell_type": "code",
      "metadata": {
        "id": "Mj5JlAa--71m",
        "colab": {
          "base_uri": "https://localhost:8080/",
          "height": 34
        },
        "outputId": "3d1d54bc-4273-46ee-f1b8-aba74f6194f3"
      },
      "source": [
        "from sklearn.ensemble import RandomForestClassifier\n",
        "forest = RandomForestClassifier(n_estimators = 10, criterion = 'entropy', random_state = 0)\n",
        "forest.fit(x_train, y_train)\n",
        "forest.score(x_train, y_train)"
      ],
      "execution_count": null,
      "outputs": [
        {
          "output_type": "execute_result",
          "data": {
            "text/plain": [
              "0.9920461095100864"
            ]
          },
          "metadata": {
            "tags": []
          },
          "execution_count": 14
        }
      ]
    },
    {
      "cell_type": "code",
      "metadata": {
        "id": "iaGlejuC_1e7",
        "colab": {
          "base_uri": "https://localhost:8080/",
          "height": 731
        },
        "outputId": "3c8a571d-11cc-4271-dc1b-a4a32db54627"
      },
      "source": [
        "pred = forest.predict(x_val)\n",
        "print(pred)\n"
      ],
      "execution_count": null,
      "outputs": [
        {
          "output_type": "stream",
          "text": [
            "[ 8  3  2  6  3  7  0  2  3  2  6  2  2  1  2  2  8  6 11  0  6  7  3  6\n",
            "  2  3  6  6  6  3  7  0  6  1  0  2  6  0  9  5  4  2  4  8 15  2  0 11\n",
            "  6  6  4  2  6  6  2  6 11  3  9  1  3  6  4  0  7  3  6 10  2  0  3  0\n",
            "  2  9  3  2  6  2  2  3  0  0  2  3  0  2  2  0  2  4  6  2  2 11  1  0\n",
            "  8  2  0  2  7  0  1  3  6  6  6  2  0  1  0  1  3  6  6  3  9  3  5 12\n",
            "  3  3  1  1  6  1  6 13  4  6  2  6  0  7  0  3  3  6  2  6  6  5  6  3\n",
            "  3  0 10  3  0  8  3  7  1  1  6  2  0  6  2  7  2  5  3  0  1  7  2 11\n",
            "  2  6  0  6  2  0  7  1  0  6  2  0  3  4  2  2  2  0  1  2  1  0  6  8\n",
            "  6  2  1  2  9  2  4  1  6  2  3  4  7  2  2  2  1  5  2  8  2  6  6  6\n",
            "  6  9  7  6  7  0  6  1  1  2  7  6  6  0  0  2  3  2  6  4  7  1  7  2\n",
            " 10  4  6  7  1  9  3  9  0  7  3  6  7  2  7  6  2  9  3  1  0  2  0  3\n",
            "  6  6  6  8  9  4  6  6  6  6  2  6  0  0  0  3  2 11  7  6  6  6  0  8\n",
            "  7  2  3  2  0  4  3  6  6  7  0  2  0  2  9  2  6  6  0  0  8  3  7  6\n",
            "  0  6  6  2  6  3  6  2  0 10  0  7  3  6  2  2  0  6  1  3  6  6  0  5\n",
            "  3  3  2  7  7  6  2  2  8  2  3  2  6  6 10  6  0  0  5  1  2  6  6  0\n",
            "  9  3  3  6  2  3  6  3  6  7  2  3  6 10  0  6  6  0  0  3 11  6  2  0\n",
            "  6  6  7  0  6  3  9  0  3  2  0  3  0  2  3  3  6  0  3  6  0  6  6  1\n",
            "  5  0  6  1  0  3  3  3  7  0 11  0  0 15  0  9 10  7  8  7  4  6  3  4\n",
            "  2  1 11  0  2  7  3  0  6  4  7  7  2  7  6 10  4  6  3 14  6  2  6  2\n",
            "  0  0  0  7  5  6  3  0  1  5  0  3  2  9  7  7  3  3 15  0  2  1  0  2\n",
            "  1 12  1  2  2  6  6  6  0  0 10  7  7  1  6  6  6  6  2  6 12  4  6  9\n",
            "  8 14  6  4 10  6 10  2  0  0  3  3  3  6  6  2  0  2  6  3  3  0  7  6\n",
            "  6  6  2  3  0  0  9  3  0  6  6  3  2  3  6  6  8  2  0  1  7  6  2  6\n",
            "  0  6  7  6  9  4  0 12  5  2  7  7  0 11  6  2  7  2  1 12  0  0  8  7\n",
            "  0 11  2  9  0  3 10 12  6  0  2  0  0  2  7  0  6  3  0  5  0  3  5  1\n",
            "  3  6  7  3  0  8  0  6  7  2  2  0  4  3  6  6  6  3  3  7  0  6  6  7\n",
            "  1  6  2  0  2  0  8  2  2  7  0  0  3  3  0  6  2  2  2  1  2  6  1  0\n",
            "  3  6  0  0  0  6  2  7  2  1  6  3  1  2  0  6  1  3  6  1  2  7  3  2\n",
            "  0 11  6  6  0  9  1 11 11  2  3  2  7 14  9 12  7 11  6  6  2  0  7 10\n",
            "  7  1  0  0  6  0  3  1  6  3  6  2  3  2  3  6  0  3  6  1  7  0  6  6\n",
            "  6  2  6  0  8 10  0  9  2  2  1 12  3  2  0  1  6  3  6  7  7 11  0  2\n",
            "  3  6  0  6  4  6  6  1  8  6  2  7  3  3  9  7  6  6  7  2  6  2  9  6\n",
            "  0  6  1  3  1  3  7  6  4  0  6  6  0  7  1  0  7  6  2  3  1  3  7  2\n",
            "  4  3  3  3  2  3  6  7  6  8  0  2  7  6  7  1  3  6  9  3  6  3  4 11\n",
            "  5  0  7  0  7  1  2  9  0  6  7 10  0  3  6  6  0  2  1  0  1  3  2  2\n",
            "  3  0  4  2  0  6  1  0  7  3  6  0  9  6  0  7 10  3  0 15  7  2  3  3\n",
            "  0  6  3  1  3  7  3  6  2  3  2 12  2  3  6  2  1  0  1  1  1  6  0  1\n",
            "  0  6  1  6  0  3  0  6  1  2  2  0  6  2  0  6  2  0  4  9  2  6  6  6\n",
            "  0  6  6  4  2  9  7  2  7  4  3  8  3  2  3  0  6 11  2  0  0  2  6  3\n",
            "  2  0  6  6  3  6  6  3  0  5 12  7 10  0  6  0 10  1  1  6  8  2  3  3\n",
            "  6  6  9  2  6  6  6  6  0  1  7  6  6  2  1  2  2  3  6  7  9  0  4  8\n",
            "  0  1  9  2  2  2  5  2  5  0  1  6  6  2  6  2]\n"
          ],
          "name": "stdout"
        }
      ]
    },
    {
      "cell_type": "code",
      "metadata": {
        "id": "hSKSOJ9wAKvy",
        "colab": {
          "base_uri": "https://localhost:8080/",
          "height": 731
        },
        "outputId": "5749f749-4309-42e7-a2e1-c65be4beb01d"
      },
      "source": [
        "\n",
        "print(y_val)"
      ],
      "execution_count": null,
      "outputs": [
        {
          "output_type": "stream",
          "text": [
            "[ 8  3  2  6  3  7  0  2  3  2  6  2  2  1  2  2  8  6 11  0  6  7  3  6\n",
            "  2  3  6  6  6  3  7  0  6  1  0  2  6  0  9  5  4  2  4  8 15  2  0 11\n",
            "  6  6  4  2  6  6  2  6 11  3  9  1  3  6  4  0  7  3  6 10  2  0  3  0\n",
            "  2  9  3  2  6  2  2  3  0  0  2  3  0  2  2  0  2  4  6  2  2 11  1  0\n",
            "  8  2  0  2  7  0  1  3  6  6  6  2  0  1  0  1  3  6  6  3  9  3  5 12\n",
            "  3  3  1  1  6  1  6 13  4  6  2  6  0  7  0  3  3  6  2  6  6  5  6  3\n",
            "  3  0 10  3  0  8  3  7  1  1  6  2  0  6  2  7  2  5  3  0  1  7  2 11\n",
            "  2  6  0  6  2  0  7  1  0  6  2  0  3  4  2  2  2  0  1  2  1  0  6  8\n",
            "  6  2  1 12  9  2  4  1  6  2  3  4  7  2  2  2  1  5  2  8  2  6  6  6\n",
            "  6  9  7  6  7  0  6  1  1  2  7  6  6  0  0  2  3  2  6  4  7  1  7  2\n",
            " 10  4  6  7  1  9  3  9  0  7  3  6  7  2  7  6  2  9  3  1  0  2  0  3\n",
            "  6 14  6  8  9  4  6  6  6  6  2  6  0  0  0  3  2 11  7  6  6  6  0  8\n",
            "  7  2  3  2  0  4  3  6  6  7  0  2  0  2  9  2  6  6  0  0  8  3  7  6\n",
            "  0  6  6  2  6  3  6  2  0 10  0  7  3  6  2  2  0  6  1  3  6  6  0  5\n",
            "  3  3  2  7  7  6  2  2  8  2  3  2  6  6 10  6  0  0  5  1  2  6  6  0\n",
            "  9  3  3  6  2  3  6  3  6  7  2  3  6 10  0  6  6  0  0  3 11  6  2  0\n",
            "  6  6  7  0  6  3  9  0  3  2  0  3  0  2  3  9  6  0  3  6  0  6  6  1\n",
            "  5  0  6  1  0  3  3  3  7  0 11  0  0 15  0  9 10  7  8  7  4  6  3  4\n",
            "  2  1 11  0  2  7  3  0  6  4  7  7  2  7  6 10  4  6  3 14  6  2  6  2\n",
            "  0  0  0  7  5  6  3  0  1  5  0  3  2  9  7  7  3  3 15  0  2  1  0  2\n",
            "  1 12  1  2  2  6  6  6  0  0 10  7  7  1  6  6  6  6  2  6 12  4  6  9\n",
            "  8 14  6  4 10  6 10  2  0  0  3  3  3  6  6  2  0  2  6  3  3  0  7  6\n",
            "  6  6  2  3  0  0  9  3  0  6  6  3  2  3  6  6  8  2  0  1  7  6  2  6\n",
            "  0  6  7  6  9  4  0 12  5  2  7  7  0 11  6  2  7  2  1 12  0  0  8  7\n",
            "  0 11  2  9  0  3 10 12  6  0  2  0  0  2  7  0  6  3  0  5  0  3  5  1\n",
            "  3  6  7  3  0  8  9  6  7  2  2  0  4  3  6  6  6  3  3  7  0  6  6  7\n",
            "  1  6  2  0  2  0  8  2  2  7  0  0  3  3  0  6  2  2  2  1  2  6  1  0\n",
            "  3  6  0  0  0  6  2  7  2  1  6  3  1  2  0  6  1  3  6  1  2  7  3  2\n",
            "  0 11  6  6  0  9  1 11 11  2  3  2  7 14  9 12  7 11  6  6  2  0  7 10\n",
            "  7  1  0  0  6  0  3  1  6  3  6  2  3  2  3  6  0  3  6  1  7  0  6  6\n",
            "  6  2  6  0  8 10  0  9  2  2  1 12  3  2  0  1  6  3  6  7  7 11  0  2\n",
            "  3  6  0  6  4  6  6  1  8  6  3  7  3  3  9  7  6  6  7  2  6  2  9  6\n",
            "  0  6  1  3  1  3  7  6  4  0  6  6  0  7  1  0  7  6  2  3  1  3  7  2\n",
            "  4  3  3  3  2  3  6  7  6  8  0  2  7  6  7  1  3  6  9  3  6  3  4 11\n",
            "  5  0  7  0  7  1  2  9  0  6  7 10  0  3  6  6  0  2  1  0  1  3  2  2\n",
            "  3  0  4  2  0  6  1  6  7  3  6  0  9  6  0  7 10  3  0 15  7  2  3  3\n",
            "  0  6  3  1  3  7  3  6  2  3  2 12  2  3  6  2  1  0  1  1  1  6  0  1\n",
            "  0  6  1  6  0  3  0  7  1  2  2  0  6  2  0  6  2  0  4  9  2  6  6  6\n",
            "  0  6  6  4  2  9  7  2  7  4  3  8  3  2  3  0  6 11  2  0  0  2  6  3\n",
            "  2  0  6  6  3  6  6  3  0  5 12  7 10  0  6  0 10  1  1  6  8  2  3  3\n",
            "  6  6  9  2  6  6  6  6  0  1  7  6  6  2  1  2  2  3  6  7  9  0  4  8\n",
            "  0  1  9  2  2  2  5  2  5  0  1  6  6  2  6  2]\n"
          ],
          "name": "stdout"
        }
      ]
    },
    {
      "cell_type": "code",
      "metadata": {
        "id": "5BEhh4RJAnA4",
        "colab": {
          "base_uri": "https://localhost:8080/",
          "height": 323
        },
        "outputId": "4d59188a-1c61-43e6-f921-7502de4e2f5e"
      },
      "source": [
        "from sklearn.metrics import confusion_matrix \n",
        "\n",
        "cm = confusion_matrix(y_val, forest.predict(x_val)) \n",
        "#extracting TN, FP, FN, TP\n",
        "confusion_matrix(y_val, forest.predict(x_val)).ravel()\n",
        "num=0\n",
        "den=0\n",
        "for i in range(0, len(cm)):\n",
        "  num += cm[i][i]\n",
        "  for j in range(0, len(cm[i])):\n",
        "    den += cm[i][j]\n",
        "print(cm)\n",
        "print (num/den)\n",
        "print()# Print a new line"
      ],
      "execution_count": null,
      "outputs": [
        {
          "output_type": "stream",
          "text": [
            "[[164   0   0   0   0   0   0   0   0   0   0   0   0   0   0   0]\n",
            " [  0  74   0   0   0   0   0   0   0   0   0   0   0   0   0   0]\n",
            " [  0   0 164   0   0   0   0   0   0   0   0   0   0   0   0   0]\n",
            " [  0   0   1 131   0   0   0   0   0   0   0   0   0   0   0   0]\n",
            " [  0   0   0   0  30   0   0   0   0   0   0   0   0   0   0   0]\n",
            " [  0   0   0   0   0  17   0   0   0   0   0   0   0   0   0   0]\n",
            " [  1   0   0   0   0   0 219   0   0   0   0   0   0   0   0   0]\n",
            " [  0   0   0   0   0   0   1  85   0   0   0   0   0   0   0   0]\n",
            " [  0   0   0   0   0   0   0   0  23   0   0   0   0   0   0   0]\n",
            " [  1   0   0   1   0   0   0   0   0  32   0   0   0   0   0   0]\n",
            " [  0   0   0   0   0   0   0   0   0   0  18   0   0   0   0   0]\n",
            " [  0   0   0   0   0   0   0   0   0   0   0  18   0   0   0   0]\n",
            " [  0   0   1   0   0   0   0   0   0   0   0   0  10   0   0   0]\n",
            " [  0   0   0   0   0   0   0   0   0   0   0   0   0   1   0   0]\n",
            " [  0   0   0   0   0   0   1   0   0   0   0   0   0   0   3   0]\n",
            " [  0   0   0   0   0   0   0   0   0   0   0   0   0   0   0   4]]\n",
            "0.993\n",
            "\n"
          ],
          "name": "stdout"
        }
      ]
    },
    {
      "cell_type": "code",
      "metadata": {
        "id": "nhNtQHr7sVpT"
      },
      "source": [
        ""
      ],
      "execution_count": null,
      "outputs": []
    }
  ]
}