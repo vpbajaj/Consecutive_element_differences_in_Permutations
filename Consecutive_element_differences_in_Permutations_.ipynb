{
  "nbformat": 4,
  "nbformat_minor": 0,
  "metadata": {
    "colab": {
      "name": "Consecutive element differences in Permutations .ipynb",
      "provenance": [],
      "collapsed_sections": [],
      "authorship_tag": "ABX9TyNaiDjCpYi64TclP1fmjcTO",
      "include_colab_link": true
    },
    "kernelspec": {
      "name": "python3",
      "display_name": "Python 3"
    }
  },
  "cells": [
    {
      "cell_type": "markdown",
      "metadata": {
        "id": "view-in-github",
        "colab_type": "text"
      },
      "source": [
        "<a href=\"https://colab.research.google.com/github/vpbajaj/Consecutive_element_differences_in_Permutations/blob/master/Consecutive_element_differences_in_Permutations_.ipynb\" target=\"_parent\"><img src=\"https://colab.research.google.com/assets/colab-badge.svg\" alt=\"Open In Colab\"/></a>"
      ]
    },
    {
      "cell_type": "markdown",
      "metadata": {
        "id": "8W5bUFUSLtE6"
      },
      "source": [
        "Coins with values 1 through N (inclusive) are placed into a bag. All the coins from the bag are iteratively drawn (without replacement) at random. For the first coin, you are paid the value of the coin. For the subsequent coins, you are paid the absolute difference between the drawn coin and the previously drawn coin. For example, if you drew 5, 3, 2, 4, 1, your payments would be 5, 2, 1, 2, 3 for a total payment of 13. \n",
        "Compute the following:\n",
        "1. What is the mean of your total payment for N=10?\n",
        "2. What is the standard deviation of your total payment for N=10?\n",
        "3. What is the mean of your total payment for N=20?\n",
        "4. What is the standard deviation of your total payment for N=20?\n",
        "5. What is the probability that your total payment is greater than or equal to 43 for N=10?"
      ]
    },
    {
      "cell_type": "code",
      "metadata": {
        "colab": {
          "base_uri": "https://localhost:8080/"
        },
        "id": "fodb8BH-R6xU",
        "outputId": "5b6aa1ff-d2bc-4b6a-9ad0-8493c2f299d8"
      },
      "source": [
        "import matplotlib.pyplot as plt\n",
        "import statsmodels.api as sm\n",
        "from scipy.optimize import curve_fit\n",
        "import numpy as np"
      ],
      "execution_count": null,
      "outputs": [
        {
          "output_type": "stream",
          "text": [
            "/usr/local/lib/python3.6/dist-packages/statsmodels/tools/_testing.py:19: FutureWarning: pandas.util.testing is deprecated. Use the functions in the public API at pandas.testing instead.\n",
            "  import pandas.util.testing as tm\n"
          ],
          "name": "stderr"
        }
      ]
    },
    {
      "cell_type": "markdown",
      "metadata": {
        "id": "I2wTBx30hgJe"
      },
      "source": [
        "Idea: Think of five coins labeled 1 through 5 in a bag. One cannot see the values, and one pick up the coins at random without replacement. There are 120 distinct ways to arrange (or permute) 5 distinct objects. For example, the draw 5, 3, 2, 4, 1 mentioned in the problem corresponds to one of the 120 possible arrangements. Note that every one of the 120 arrangements is equally likely; that is, there is no reason to favor the above arrangement (5, 3, 2, 4, 1 ) over any of the other 119 distinct arrangements. Thus, one can convert the above problem to a problem of permuting (or arranging) 5 distinct objects labelled 1 through 5, and computing the total of the absolute difference between numbers in the specific arrangement. \n",
        "Once one understands this for say 5 numbers, one may generalize it to N numbers. \n",
        "However, one must the time required to compute the desired permutations. My computer is able to generate permutations for upto N=10. So this serves well in answering the first two questions.\n",
        "To answer the question for N=20, one realizes that a polynomial function fits the means and standard deviations for the data points obtained from the first ten total payments (or arrangements). Then one simply extrapolates the desired results with the correct polynomial approximation. "
      ]
    },
    {
      "cell_type": "code",
      "metadata": {
        "id": "902aChiy2DHw"
      },
      "source": [
        "# Below we compute the total of the absolute difference between the drawn coin and the previouly drawn coin\n",
        "# Append the total to a list called 's' \n",
        "def printArr(a, n, s):\n",
        "  tot=0\n",
        "  tot = a[0]+np.sum(np.abs(np.diff(a)))\n",
        "  #print(tot)\n",
        "  s.append(tot) "
      ],
      "execution_count": null,
      "outputs": []
    },
    {
      "cell_type": "code",
      "metadata": {
        "id": "DzF0rw5y2GOF"
      },
      "source": [
        "# use the heap algorithm to permute the numbers\n",
        "# call the printArr method \n",
        "def heapPermutation(a, size, n, s): \n",
        "      \n",
        "    # if size becomes 1 then prints the obtained \n",
        "    # permutation \n",
        "    if (size == 1): \n",
        "        printArr(a, n, s) \n",
        "        return\n",
        "  \n",
        "    for i in range(size): \n",
        "        heapPermutation(a,size-1,n, s); \n",
        "  \n",
        "        # if size is odd, swap first and last \n",
        "        # element \n",
        "        # else If size is even, swap ith and last element \n",
        "        if size&1: \n",
        "            a[0], a[size-1] = a[size-1],a[0] \n",
        "        else: \n",
        "            a[i], a[size-1] = a[size-1],a[i]"
      ],
      "execution_count": null,
      "outputs": []
    },
    {
      "cell_type": "code",
      "metadata": {
        "id": "76MGQoJ7Zo8P"
      },
      "source": [
        "# perform the heapPermutation for the first ten numbers (which is euqivalent to the first ten total payments)\n",
        "# returns required corresponding means and standard deviations for the total payments\n",
        "# stores them in lists s\n",
        "# mean_arr is the list of means for different values of N\n",
        "# for example, mean_arr[1] is the mean for N=2 (5/2=2.5)\n",
        "mean_arr=[]\n",
        "std_arr=[]\n",
        "tot_arr=[]\n",
        "for i in range(1,11):\n",
        "  a = list(range(1,i+1))\n",
        "  s=[]\n",
        "  n = len(a)\n",
        "  heapPermutation(a, n, n, s)\n",
        "  tot_arr.append(np.sum(s))\n",
        "  mean_arr.append(np.mean(s))\n",
        "  std_arr.append(np.std(s))\n"
      ],
      "execution_count": null,
      "outputs": []
    },
    {
      "cell_type": "code",
      "metadata": {
        "colab": {
          "base_uri": "https://localhost:8080/"
        },
        "id": "cihixhTYYSNl",
        "outputId": "40038fb4-3dc8-4584-84fb-c8fd69b164d5"
      },
      "source": [
        "# sum total of all possible payments \n",
        "print(tot_arr)\n",
        "# means for the first ten total payments \n",
        "print(mean_arr)\n",
        "# standard devaitions for the first ten total payments\n",
        "print(std_arr)"
      ],
      "execution_count": null,
      "outputs": [
        {
          "output_type": "stream",
          "text": [
            "[1, 5, 28, 180, 1320, 10920, 100800, 1028160, 11491200, 139708800]\n",
            "[1.0, 2.5, 4.666666666666667, 7.5, 11.0, 15.166666666666666, 20.0, 25.5, 31.666666666666668, 38.5]\n",
            "[0.0, 0.5, 0.9428090415820632, 1.5, 2.1447610589527217, 2.864534090485843, 3.6514837167011076, 4.5, 5.405758246742286, 6.365270352991039]\n"
          ],
          "name": "stdout"
        }
      ]
    },
    {
      "cell_type": "markdown",
      "metadata": {
        "id": "MUYdGBqdlHS_"
      },
      "source": [
        "Solution:\n",
        "1. 38.5\n",
        "2. 6.37"
      ]
    },
    {
      "cell_type": "markdown",
      "metadata": {
        "id": "EZPaocKBDdiE"
      },
      "source": [
        "# New Section"
      ]
    },
    {
      "cell_type": "markdown",
      "metadata": {
        "id": "TVZEVe5SdKCK"
      },
      "source": [
        "Let's try fitting the plot with an exponential function"
      ]
    },
    {
      "cell_type": "code",
      "metadata": {
        "id": "2VQMlxfoQnOe"
      },
      "source": [
        "def f(x, a, b):\n",
        "  return a*np.exp(x*b)"
      ],
      "execution_count": null,
      "outputs": []
    },
    {
      "cell_type": "code",
      "metadata": {
        "id": "qRvrx155NV6L",
        "colab": {
          "base_uri": "https://localhost:8080/",
          "height": 265
        },
        "outputId": "43871d04-9bb7-4e4c-990f-708e27e51ae3"
      },
      "source": [
        "time = range(1,11)\n",
        "plt.scatter(time, std_arr)\n",
        "plt.show()"
      ],
      "execution_count": null,
      "outputs": [
        {
          "output_type": "display_data",
          "data": {
            "image/png": "[encoded data removed]",
            "text/plain": [
              "<Figure size 432x288 with 1 Axes>"
            ]
          },
          "metadata": {
            "tags": [],
            "needs_background": "light"
          }
        }
      ]
    },
    {
      "cell_type": "code",
      "metadata": {
        "id": "qMPfdlrTRDSd",
        "colab": {
          "base_uri": "https://localhost:8080/"
        },
        "outputId": "43c10565-f15c-4def-d2d7-412f753c30f1"
      },
      "source": [
        "popt, pcov = curve_fit(f, time, mean_arr)\n",
        "print(popt)"
      ],
      "execution_count": null,
      "outputs": [
        {
          "output_type": "stream",
          "text": [
            "[2.83231717 0.26584235]\n"
          ],
          "name": "stdout"
        }
      ]
    },
    {
      "cell_type": "code",
      "metadata": {
        "id": "bpI1IYIIRUYH"
      },
      "source": [
        "xFit = np.arange(0.0, 10.0, 0.01)"
      ],
      "execution_count": null,
      "outputs": []
    },
    {
      "cell_type": "code",
      "metadata": {
        "id": "YwYu8Qc1RrfI",
        "colab": {
          "base_uri": "https://localhost:8080/",
          "height": 279
        },
        "outputId": "1e111f7d-95d5-4b38-8a58-0f3a553e87bf"
      },
      "source": [
        "plt.plot(xFit, f(xFit, *popt), 'r', label='fit params: a=%5.3')\n",
        "plt.scatter(time, mean_arr)\n",
        "plt.xlabel('x')\n",
        "plt.ylabel('y')\n",
        "plt.legend()\n",
        "plt.show()"
      ],
      "execution_count": null,
      "outputs": [
        {
          "output_type": "display_data",
          "data": {
            "image/png": "[encoded data removed]",
            "text/plain": [
              "<Figure size 432x288 with 1 Axes>"
            ]
          },
          "metadata": {
            "tags": [],
            "needs_background": "light"
          }
        }
      ]
    },
    {
      "cell_type": "code",
      "metadata": {
        "id": "ryS_OC1DSfN8",
        "colab": {
          "base_uri": "https://localhost:8080/"
        },
        "outputId": "dcb2c160-49fb-4047-a5e1-6f65f6939fe8"
      },
      "source": [
        "f(10,2.83281583, 0.26582696)"
      ],
      "execution_count": null,
      "outputs": [
        {
          "output_type": "execute_result",
          "data": {
            "text/plain": [
              "40.428735622380636"
            ]
          },
          "metadata": {
            "tags": []
          },
          "execution_count": 12
        }
      ]
    },
    {
      "cell_type": "markdown",
      "metadata": {
        "id": "37WywBgGdXn5"
      },
      "source": [
        "Well, this is not a good fit. Let's try a simpler model, namely, polynomials!"
      ]
    },
    {
      "cell_type": "code",
      "metadata": {
        "id": "_Qk_mlzzTA4V",
        "colab": {
          "base_uri": "https://localhost:8080/",
          "height": 284
        },
        "outputId": "b1e50dea-c8f0-4408-864f-d020817bfbc0"
      },
      "source": [
        "curve = np.polyfit(time, mean_arr, 2)\n",
        "poly = np.poly1d(curve)\n",
        "y = np.polyval(poly, time)\n",
        "plt.plot(time, y, 'k')\n",
        "plt.scatter(time, mean_arr)\n",
        "poly(20)"
      ],
      "execution_count": null,
      "outputs": [
        {
          "output_type": "execute_result",
          "data": {
            "text/plain": [
              "143.49999999999997"
            ]
          },
          "metadata": {
            "tags": []
          },
          "execution_count": 13
        },
        {
          "output_type": "display_data",
          "data": {
            "image/png": "[encoded data removed]",
            "text/plain": [
              "<Figure size 432x288 with 1 Axes>"
            ]
          },
          "metadata": {
            "tags": [],
            "needs_background": "light"
          }
        }
      ]
    },
    {
      "cell_type": "code",
      "metadata": {
        "id": "2gu8i6AdU_ot",
        "colab": {
          "base_uri": "https://localhost:8080/",
          "height": 282
        },
        "outputId": "d7f87bfc-9d69-47d6-b0d7-fc93b36fc9b3"
      },
      "source": [
        "curve_1 = np.polyfit(time, std_arr, 3)\n",
        "poly_1 = np.poly1d(curve_1)\n",
        "y_1 = np.polyval(poly_1, time)\n",
        "plt.plot(time, y_1, 'k')\n",
        "plt.scatter(time, std_arr)"
      ],
      "execution_count": null,
      "outputs": [
        {
          "output_type": "execute_result",
          "data": {
            "text/plain": [
              "<matplotlib.collections.PathCollection at 0x7fe58a0059b0>"
            ]
          },
          "metadata": {
            "tags": []
          },
          "execution_count": 14
        },
        {
          "output_type": "display_data",
          "data": {
            "image/png": "[encoded data removed]",
            "text/plain": [
              "<Figure size 432x288 with 1 Axes>"
            ]
          },
          "metadata": {
            "tags": [],
            "needs_background": "light"
          }
        }
      ]
    },
    {
      "cell_type": "code",
      "metadata": {
        "id": "VWt0E9YlWedx",
        "colab": {
          "base_uri": "https://localhost:8080/"
        },
        "outputId": "92d47d4f-6a6e-4e2e-e93e-e3b153a707dc"
      },
      "source": [
        "\n",
        "poly_1(20)"
      ],
      "execution_count": null,
      "outputs": [
        {
          "output_type": "execute_result",
          "data": {
            "text/plain": [
              "19.32508109674843"
            ]
          },
          "metadata": {
            "tags": []
          },
          "execution_count": 15
        }
      ]
    },
    {
      "cell_type": "markdown",
      "metadata": {
        "id": "Z_MhrfNylQij"
      },
      "source": [
        "Solution:\n",
        "3. 143.45\n",
        "4. 19.33"
      ]
    },
    {
      "cell_type": "markdown",
      "metadata": {
        "id": "oUSL4XRrDfTk"
      },
      "source": [
        "# New Section"
      ]
    },
    {
      "cell_type": "code",
      "metadata": {
        "id": "1xM6fPstl0vI"
      },
      "source": [
        "def printArr_43(a, n, s_43):\n",
        "  tot=0\n",
        "  tot = a[0]+np.sum(np.abs(np.diff(a)))\n",
        "  #print(tot)\n",
        "  if tot>=43: s_43.append(tot)\n",
        "  return"
      ],
      "execution_count": null,
      "outputs": []
    },
    {
      "cell_type": "code",
      "metadata": {
        "id": "C2X5Y5AmmG_D"
      },
      "source": [
        "# use the heap algorithm to permute the numbers\n",
        "# call the printArr method \n",
        "def heapPermutation_43(a, size, n, s_160): \n",
        "      \n",
        "    # if size becomes 1 then prints the obtained \n",
        "    # permutation \n",
        "    if (size == 1): \n",
        "        printArr_43(a, n, s_160) \n",
        "        return\n",
        "  \n",
        "    for i in range(size): \n",
        "        heapPermutation_43(a,size-1,n, s_43); \n",
        "  \n",
        "        # if size is odd, swap first and last \n",
        "        # element \n",
        "        # else If size is even, swap ith and last element \n",
        "        if size&1: \n",
        "            a[0], a[size-1] = a[size-1],a[0] \n",
        "        else: \n",
        "            a[i], a[size-1] = a[size-1],a[i]"
      ],
      "execution_count": null,
      "outputs": []
    },
    {
      "cell_type": "code",
      "metadata": {
        "colab": {
          "base_uri": "https://localhost:8080/"
        },
        "id": "FDHuSY46m6HI",
        "outputId": "5c1e685d-8434-4f41-fb07-49859000ca2b"
      },
      "source": [
        "a = list(range(1,11))\n",
        "print(a)"
      ],
      "execution_count": null,
      "outputs": [
        {
          "output_type": "stream",
          "text": [
            "[1, 2, 3, 4, 5, 6, 7, 8, 9, 10]\n"
          ],
          "name": "stdout"
        }
      ]
    },
    {
      "cell_type": "code",
      "metadata": {
        "id": "QvCQk7QfxO4H"
      },
      "source": [
        "tot_arr_43=[]\n",
        "a = list(range(1,11))\n",
        "s_43=[]\n",
        "n = len(a)\n",
        "heapPermutation_43(a, n, n, s_43)\n",
        "  #mean_arr_160.append(np.mean(s_160))\n",
        "  #std_arr_160.append(np.std(s_160))\n",
        "tot_arr_43.append(np.sum(s_43))"
      ],
      "execution_count": null,
      "outputs": []
    },
    {
      "cell_type": "code",
      "metadata": {
        "colab": {
          "base_uri": "https://localhost:8080/"
        },
        "id": "mo4DJywVnMsl",
        "outputId": "0896a008-ecdf-45bc-cad8-4c781a6e20b6"
      },
      "source": [
        "print(tot_arr_43)\n",
        "print(tot_arr[9])"
      ],
      "execution_count": null,
      "outputs": [
        {
          "output_type": "stream",
          "text": [
            "[46602756]\n",
            "139708800\n"
          ],
          "name": "stdout"
        }
      ]
    },
    {
      "cell_type": "code",
      "metadata": {
        "colab": {
          "base_uri": "https://localhost:8080/"
        },
        "id": "_EMB_ADoqGWx",
        "outputId": "9256c565-338b-4274-f8cb-41741c7b7dcc"
      },
      "source": [
        "print('5. Probability that the total payment is greater than equal to 43 for N=10 is ' + str(tot_arr_43[0]/tot_arr[9]))"
      ],
      "execution_count": null,
      "outputs": [
        {
          "output_type": "stream",
          "text": [
            "5. Probability that the total payment is greater than equal to 43 for N=10 is 0.33357065553494125\n"
          ],
          "name": "stdout"
        }
      ]
    }
  ]
}